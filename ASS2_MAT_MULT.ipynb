{
 "cells": [
  {
   "cell_type": "code",
   "execution_count": 1,
   "id": "e74688b4",
   "metadata": {},
   "outputs": [],
   "source": [
    "import findspark\n",
    "findspark.init()"
   ]
  },
  {
   "cell_type": "code",
   "execution_count": 2,
   "id": "0cd6b401",
   "metadata": {},
   "outputs": [
    {
     "name": "stdout",
     "output_type": "stream",
     "text": [
      "+---+---+------+\n",
      "|row|col|result|\n",
      "+---+---+------+\n",
      "|  0|  1|    41|\n",
      "|  0|  0|    36|\n",
      "|  1|  0|    64|\n",
      "|  1|  1|    73|\n",
      "+---+---+------+\n",
      "\n"
     ]
    }
   ],
   "source": [
    "\n",
    "import pyspark\n",
    "from pyspark.sql import SparkSession\n",
    "\n",
    "\n",
    "spark = SparkSession.builder \\\n",
    "    .appName(\"MatrixMultiplication\") \\\n",
    "    .getOrCreate()\n",
    "\n",
    "\n",
    "matrix1 = [\n",
    "    (0, 0, 2),\n",
    "    (0, 1, 3),\n",
    "    (1, 0, 4),\n",
    "    (1, 1, 5)\n",
    "]\n",
    "\n",
    "matrix2 = [\n",
    "    (0, 0, 6),\n",
    "    (0, 1, 7),\n",
    "    (1, 0, 8),\n",
    "    (1, 1, 9)\n",
    "]\n",
    "\n",
    "matrix1_rdd = spark.sparkContext.parallelize(matrix1)\n",
    "matrix2_rdd = spark.sparkContext.parallelize(matrix2)\n",
    "\n",
    "result_rdd = matrix1_rdd.flatMap(lambda x: [((x[0], y[1]), x[2] * y[2]) for y in matrix2 if x[1] == y[0]]). \\\n",
    "    reduceByKey(lambda x, y: x + y)\n",
    "\n",
    "\n",
    "result_df = spark.createDataFrame(result_rdd.map(lambda x: (x[0][0], x[0][1], x[1])), [\"row\", \"col\", \"result\"])\n",
    "\n",
    "\n",
    "result_df.show()\n",
    "\n",
    "spark.stop()\n"
   ]
  },
  {
   "cell_type": "code",
   "execution_count": null,
   "id": "a7406e49",
   "metadata": {},
   "outputs": [],
   "source": []
  }
 ],
 "metadata": {
  "kernelspec": {
   "display_name": "Python 3 (ipykernel)",
   "language": "python",
   "name": "python3"
  },
  "language_info": {
   "codemirror_mode": {
    "name": "ipython",
    "version": 3
   },
   "file_extension": ".py",
   "mimetype": "text/x-python",
   "name": "python",
   "nbconvert_exporter": "python",
   "pygments_lexer": "ipython3",
   "version": "3.10.5"
  }
 },
 "nbformat": 4,
 "nbformat_minor": 5
}
