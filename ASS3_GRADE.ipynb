{
 "cells": [
  {
   "cell_type": "code",
   "execution_count": 1,
   "id": "13f829aa",
   "metadata": {},
   "outputs": [],
   "source": [
    "import findspark\n",
    "findspark.init()"
   ]
  },
  {
   "cell_type": "code",
   "execution_count": 2,
   "id": "05c3474e",
   "metadata": {},
   "outputs": [
    {
     "name": "stdout",
     "output_type": "stream",
     "text": [
      "+-------+-------+-----+\n",
      "|Student|Subject|Grade|\n",
      "+-------+-------+-----+\n",
      "|  Alice|   Math|    A|\n",
      "|  Alice|Science|    A|\n",
      "|  Alice|English|    A|\n",
      "|    Bob|   Math|    B|\n",
      "|    Bob|Science|    B|\n",
      "|    Bob|English|    A|\n",
      "|Charlie|   Math|    B|\n",
      "|Charlie|Science|    B|\n",
      "|Charlie|English|    B|\n",
      "|  David|   Math|    A|\n",
      "|  David|Science|    A|\n",
      "|  David|English|    A|\n",
      "|    Eve|   Math|    B|\n",
      "|    Eve|Science|    A|\n",
      "|    Eve|English|    B|\n",
      "+-------+-------+-----+\n",
      "\n"
     ]
    }
   ],
   "source": [
    "from pyspark.sql import SparkSession\n",
    "\n",
    "\n",
    "spark = SparkSession.builder \\\n",
    "    .appName(\"StudentGrades\") \\\n",
    "    .getOrCreate()\n",
    "\n",
    "scores = [\n",
    "    (\"Alice\", {\"Math\": 85, \"Science\": 90, \"English\": 80}),\n",
    "    (\"Bob\", {\"Math\": 70, \"Science\": 75, \"English\": 85}),\n",
    "    (\"Charlie\", {\"Math\": 60, \"Science\": 65, \"English\": 70}),\n",
    "    (\"David\", {\"Math\": 90, \"Science\": 95, \"English\": 85}),\n",
    "    (\"Eve\", {\"Math\": 75, \"Science\": 80, \"English\": 75})\n",
    "]\n",
    "\n",
    "scores_rdd = spark.sparkContext.parallelize(scores)\n",
    "\n",
    "\n",
    "grading_scheme = {\n",
    "    \"A\": (80, 100),\n",
    "    \"B\": (60, 79),\n",
    "    \"C\": (40, 59),\n",
    "    \"D\": (0, 39)\n",
    "}\n",
    "\n",
    "\n",
    "def compute_grade(score):\n",
    "    for grade, (lower_bound, upper_bound) in grading_scheme.items():\n",
    "        if lower_bound <= score <= upper_bound:\n",
    "            return grade\n",
    "    return \"F\"\n",
    "\n",
    "grades_rdd = scores_rdd.map(lambda x: (x[0], {subject: compute_grade(score) for subject, score in x[1].items()}))\n",
    "\n",
    "grades_df = spark.createDataFrame(grades_rdd.flatMap(lambda x: [(x[0], subject, grade) for subject, grade in x[1].items()]), [\"Student\", \"Subject\", \"Grade\"])\n",
    "\n",
    "grades_df.show()\n",
    "\n",
    "spark.stop()\n"
   ]
  },
  {
   "cell_type": "code",
   "execution_count": null,
   "id": "b88cba52",
   "metadata": {},
   "outputs": [],
   "source": []
  }
 ],
 "metadata": {
  "kernelspec": {
   "display_name": "Python 3 (ipykernel)",
   "language": "python",
   "name": "python3"
  },
  "language_info": {
   "codemirror_mode": {
    "name": "ipython",
    "version": 3
   },
   "file_extension": ".py",
   "mimetype": "text/x-python",
   "name": "python",
   "nbconvert_exporter": "python",
   "pygments_lexer": "ipython3",
   "version": "3.10.5"
  }
 },
 "nbformat": 4,
 "nbformat_minor": 5
}
