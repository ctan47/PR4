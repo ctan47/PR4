{
 "cells": [
  {
   "cell_type": "code",
   "execution_count": 14,
   "id": "5df9caea",
   "metadata": {},
   "outputs": [],
   "source": [
    "import findspark\n",
    "findspark.init()\n",
    "import pyspark\n"
   ]
  },
  {
   "cell_type": "code",
   "execution_count": 15,
   "id": "565dcfee",
   "metadata": {},
   "outputs": [],
   "source": [
    "from pyspark.sql import SparkSession\n",
    "import seaborn as sns"
   ]
  },
  {
   "cell_type": "code",
   "execution_count": 16,
   "id": "675eb136",
   "metadata": {},
   "outputs": [],
   "source": [
    "spark = SparkSession.builder \\\n",
    "    .appName(\"TitanicAnalysis\") \\\n",
    "    .getOrCreate()\n"
   ]
  },
  {
   "cell_type": "code",
   "execution_count": 17,
   "id": "9c3de850",
   "metadata": {},
   "outputs": [],
   "source": [
    "titanic_df = spark.createDataFrame(sns.load_dataset(\"titanic\"))\n",
    "\n",
    "titanic_df = titanic_df.fillna({'Age': 0})"
   ]
  },
  {
   "cell_type": "code",
   "execution_count": 18,
   "id": "76ce6023",
   "metadata": {},
   "outputs": [],
   "source": [
    "male_deceased = titanic_df.filter((titanic_df[\"Sex\"] == \"male\") & (titanic_df[\"Survived\"] == 0) & titanic_df[\"Age\"].isNotNull())\n",
    "male_deceased_count = male_deceased.count()"
   ]
  },
  {
   "cell_type": "code",
   "execution_count": 19,
   "id": "e77ce280",
   "metadata": {},
   "outputs": [
    {
     "name": "stdout",
     "output_type": "stream",
     "text": [
      "Number of male passengers who died: 468\n",
      "Average age of male passengers who died: 24.321581196581196\n",
      "Number of deceased passengers in each class among females:\n",
      "+------+-----+\n",
      "|Pclass|count|\n",
      "+------+-----+\n",
      "|     1|    3|\n",
      "|     3|   72|\n",
      "|     2|    6|\n",
      "+------+-----+\n",
      "\n"
     ]
    }
   ],
   "source": [
    "if male_deceased_count > 0:\n",
    "\n",
    "    male_deceased_age_avg = male_deceased.agg({\"Age\": \"avg\"}).collect()[0][0]\n",
    "    print(\"Number of male passengers who died:\", male_deceased_count)\n",
    "    print(\"Average age of male passengers who died:\", male_deceased_age_avg)\n",
    "else:\n",
    "    print(\"No male passengers found who died in the dataset.\")\n",
    "    \n",
    "female_deceased_by_class = titanic_df.filter((titanic_df[\"Sex\"] == \"female\") & (titanic_df[\"Survived\"] == 0)).groupBy(\"Pclass\").count()\n",
    "\n",
    "\n",
    "print(\"Number of deceased passengers in each class among females:\")\n",
    "female_deceased_by_class.show()\n",
    "\n",
    "spark.stop()\n"
   ]
  }
 ],
 "metadata": {
  "kernelspec": {
   "display_name": "Python 3 (ipykernel)",
   "language": "python",
   "name": "python3"
  },
  "language_info": {
   "codemirror_mode": {
    "name": "ipython",
    "version": 3
   },
   "file_extension": ".py",
   "mimetype": "text/x-python",
   "name": "python",
   "nbconvert_exporter": "python",
   "pygments_lexer": "ipython3",
   "version": "3.10.5"
  }
 },
 "nbformat": 4,
 "nbformat_minor": 5
}
